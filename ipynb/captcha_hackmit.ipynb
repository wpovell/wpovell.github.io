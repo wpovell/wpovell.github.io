{
 "cells": [
  {
   "cell_type": "markdown",
   "metadata": {},
   "source": [
    "## Image Processing\n",
    "\n",
    "Before we do anything serious with machine learning, lets try to clean up the images as much as possible. To start, we can define a cutoff and make everything either black or white."
   ]
  },
  {
   "cell_type": "code",
   "execution_count": 1,
   "metadata": {},
   "outputs": [
    {
     "data": {
      "image/png": "[encoded data removed]",
      "text/plain": [
       "<matplotlib.figure.Figure at 0x106e05d30>"
      ]
     },
     "metadata": {},
     "output_type": "display_data"
    },
    {
     "data": {
      "image/png": "[encoded data removed]",
      "text/plain": [
       "<matplotlib.figure.Figure at 0x106def2e8>"
      ]
     },
     "metadata": {},
     "output_type": "display_data"
    }
   ],
   "source": [
    "import numpy as np\n",
    "from PIL import Image\n",
    "from matplotlib import pyplot as plt\n",
    "from full.misc import showImg\n",
    "\n",
    "# Size of input CAPTCHA\n",
    "IM_W, IM_H = 100, 50\n",
    "S = (IM_H, IM_W)\n",
    "# Luminosity cutoff for what we keep\n",
    "LIGHTNESS_CUTOFF = 170\n",
    "\n",
    "im = Image.open('imgs/captcha.png')\n",
    "im = im.convert('L') # Make grayscale\n",
    "showImg(im, 'Grayscale')\n",
    "pix = np.array(im.getdata())\n",
    "# Apply cutoff\n",
    "pix = np.array(list(map(lambda x: 255 if x > LIGHTNESS_CUTOFF else 0, pix)))\n",
    "showImg(pix.reshape(S), 'Binary Cutoff')"
   ]
  },
  {
   "cell_type": "markdown",
   "metadata": {},
   "source": [
    "Next up, wouldn't it be nice if we could get rid of those lines? Although perhaps a bit unrealistic, the captchas for the problem all had lines in the exact same place for a given user. Because of this, you can go through a sample of images and find the pixels that are always white, giving you just the lines."
   ]
  },
  {
   "cell_type": "code",
   "execution_count": 2,
   "metadata": {},
   "outputs": [
    {
     "data": {
      "image/png": "[encoded data removed]",
      "text/plain": [
       "<matplotlib.figure.Figure at 0x106d68f60>"
      ]
     },
     "metadata": {},
     "output_type": "display_data"
    }
   ],
   "source": [
    "def generateMask():\n",
    "    ''' Given a directory of imgs with only 0/255 pixel values,\n",
    "        finds pixels that are always white and outputs a mask\n",
    "        with those values.\n",
    "    '''\n",
    "    mask = np.ones([HEIGHT*WIDTH], dtype=np.uint8)\n",
    "    for im in getImgs():\n",
    "        arr = np.array(im.getdata(), dtype=np.uint8)\n",
    "        mask  &= arr\n",
    "    return mask * 255\n",
    "im = Image.open('imgs/mask.png')\n",
    "showImg(im, \"Mask\")\n",
    "mask = np.array(im.getdata())"
   ]
  },
  {
   "cell_type": "markdown",
   "metadata": {},
   "source": [
    "Now we can remove the lines, however that cuts up our letters and doesn't look too great. Lets try restoring some of the removed areas if they have a lot of other pixels around them."
   ]
  },
  {
   "cell_type": "code",
   "execution_count": 3,
   "metadata": {},
   "outputs": [
    {
     "data": {
      "image/png": "[encoded data removed]",
      "text/plain": [
       "<matplotlib.figure.Figure at 0x108a748d0>"
      ]
     },
     "metadata": {},
     "output_type": "display_data"
    },
    {
     "data": {
      "image/png": "[encoded data removed]",
      "text/plain": [
       "<matplotlib.figure.Figure at 0x1085d7208>"
      ]
     },
     "metadata": {},
     "output_type": "display_data"
    }
   ],
   "source": [
    "# Apply mask\n",
    "pix ^= mask\n",
    "pix = pix.reshape(S)\n",
    "showImg(pix, \"Mask Removed\")\n",
    "\n",
    "# Get white pixel coords from mask\n",
    "mask = mask.reshape(S)\n",
    "ps = [(x,y)\n",
    "      for y, row in enumerate(mask)\n",
    "      for x, p in enumerate(row)\n",
    "      if p == 255]\n",
    "\n",
    "# Restore wrongly masked pix\n",
    "valid = lambda x, y: x >= 0 and x < IM_W and y >= 0 and y < IM_H\n",
    "for x, y in ps:\n",
    "    total = 0\n",
    "    \n",
    "    # Loop over 9x9 area surrounding pix\n",
    "    DELTAS = [(dx, dy) for dx in range(-1,2) for dy in range(-1,2)]\n",
    "    for dx, dy in DELTAS:\n",
    "        tx, ty = x + dx, y + dy\n",
    "        if valid(tx, ty) and pix[ty][tx] != 0:\n",
    "            total += 1\n",
    "\n",
    "    # Add if surrounded \n",
    "    if total >= 4:\n",
    "        pix[y][x] = 255\n",
    "\n",
    "showImg(pix, \"Mask Partially Restored\")"
   ]
  },
  {
   "cell_type": "markdown",
   "metadata": {},
   "source": [
    "Looks pretty good! Now lets work on isolating the characters; it'll be a lot easier to classify them individually than it would be to try to classify all four as a whole. Most characters are a single continous area, so lets use flood fill to pick those out. We can erase any pixel groups that are too small, clearing out some noise."
   ]
  },
  {
   "cell_type": "code",
   "execution_count": 4,
   "metadata": {},
   "outputs": [
    {
     "data": {
      "image/png": "[encoded data removed]",
      "text/plain": [
       "<matplotlib.figure.Figure at 0x108ceb4e0>"
      ]
     },
     "metadata": {},
     "output_type": "display_data"
    }
   ],
   "source": [
    "def findWhite(im):\n",
    "    ''' Finds first white pixel in image.\n",
    "        Note: This could be sped up by passing in the last coordinate,\n",
    "        however I didn't run into performance issues so didn't worry about it.\n",
    "    '''\n",
    "    t = im.T # Iterate from left to right rather than top to bottom\n",
    "    for y, row in enumerate(t):\n",
    "        for x, p in enumerate(row):\n",
    "            if p == 255:\n",
    "                return (y,x)\n",
    "    return None\n",
    "\n",
    "from queue import Queue\n",
    "MIN_GROUP_SIZE = 10\n",
    "def fill(data, x, y, target, replacement):\n",
    "    ''' Fills a continous area of target color with replacement,\n",
    "        starting at (x, y).\n",
    "        Returns a set of pixels mutated. \n",
    "    '''\n",
    "    if data[y][x] != target:\n",
    "        return\n",
    "\n",
    "    q = set()\n",
    "    allP = set()\n",
    "    valid = lambda x, y: x >= 0 and x < IM_W and y >= 0 and y < IM_H and data[y][x] == target\n",
    "    q.add((x,y))\n",
    "    allP.add((x,y))\n",
    "    while len(q):\n",
    "        x, y = q.pop() # Get next\n",
    "        data[y][x] = replacement\n",
    "\n",
    "        # Iterate around 9x9 area\n",
    "        for dx, dy in DELTAS:\n",
    "            tx, ty = x + dx, y + dy\n",
    "            if valid(tx, ty) and not (tx == x and ty == y):\n",
    "                q.add((tx,ty))\n",
    "                allP.add((tx, ty))\n",
    "\n",
    "    # Don't keep areas smaller than MGS\n",
    "    if len(allP) < MIN_GROUP_SIZE:\n",
    "        for x, y in allP:\n",
    "            data[y][x] = 0\n",
    "        return None\n",
    "    return allP\n",
    "\n",
    "parts = []\n",
    "while True:\n",
    "    r = findWhite(pix)\n",
    "    if not r:\n",
    "        break\n",
    "    x, y = r\n",
    "    res = fill(pix, x, y, 255, 100)\n",
    "\n",
    "    if res:\n",
    "        parts.append(res)\n",
    "assert len(parts) == 4 # Only continue if we have 4 regions\n",
    "    \n",
    "showImg(pix, \"Continous Letters\")"
   ]
  },
  {
   "cell_type": "markdown",
   "metadata": {},
   "source": [
    "Now sometimes we might get CAPTCHAs where two letters are touching or have an `i` or `j` with the dot cleanly disattached from the stem, giving us fewer or greater than 4 groups. Thankfully these only ocur about 40% of the time. The problem only requires us to submit 10k valid captcha answers, so we can choose which ones we decide to send, allowing us to ignore some of the less ideal inputs.\n",
    "\n",
    "Now that we have our letters lets crop and line them up nicely. We want them all to be in boxes of the same size so its easier to classify them. If they don't fit in a box size that fits most, they're probably hard images anyways so we'll skip those."
   ]
  },
  {
   "cell_type": "code",
   "execution_count": 12,
   "metadata": {},
   "outputs": [
    {
     "data": {
      "image/png": "[encoded data removed]",
      "text/plain": [
       "<matplotlib.figure.Figure at 0x108c92710>"
      ]
     },
     "metadata": {},
     "output_type": "display_data"
    }
   ],
   "source": [
    "# Size of character boxes\n",
    "# Some might go out of these bounds, but in\n",
    "# that case they're probably hard anyway so we'd skip\n",
    "OUT_H, OUT_W = 30, 35\n",
    "\n",
    "mats = []\n",
    "for i, part in enumerate(parts):\n",
    "    minX, minY = 101, 101\n",
    "    # Get min (x,y)\n",
    "    for (x,y) in part:\n",
    "        if x < minX:\n",
    "            minX = x\n",
    "        if y < minY:\n",
    "            minY = y\n",
    "    \n",
    "    # Paste into new box\n",
    "    mat = np.zeros([OUT_H, OUT_W], dtype=np.uint8)\n",
    "    for x, y in part:\n",
    "        mat[y-minY][x-minX] = 255\n",
    "    mats.append(mat)\n",
    "\n",
    "showImg(np.concatenate(mats, axis=1), \"Letters Isolated\")"
   ]
  },
  {
   "cell_type": "markdown",
   "metadata": {},
   "source": [
    "## Machine Learning\n",
    "\n",
    "Now to start on the classifier. K-means clustering appealed to me at first since I didn't want to hand annotate examples for supervised learning. However, a quick run at it using `sklearn` went poorly so I trashed the idea and decided on CNNs.\n",
    "\n",
    "First lets define our model. The problem feels pretty similar to MNIST, so lets go with adapted version of that, just changing the input and output shapes. We'll be passing in a `30 x 35` image and outputting a `1 x 36` vector of probabilities, one for each lowercase letter and digit."
   ]
  },
  {
   "cell_type": "code",
   "execution_count": 6,
   "metadata": {
    "collapsed": true
   },
   "outputs": [],
   "source": [
    "import tensorflow as tf\n",
    "import string\n",
    "\n",
    "# Our string of chars to map index <-> char\n",
    "look = string.ascii_lowercase + string.digits\n",
    "\n",
    "# Straight out of my CNN code for MNIST\n",
    "INPUT_SIZE, OUTPUT_SIZE = OUT_H * OUT_W, len(look) \n",
    "FILTER_SIZE, FILTER_ONE_DEPTH, FILTER_TWO_DEPTH = 5, 32, 64\n",
    "FLAT_SIZE, HIDDEN_SIZE = 8 * 9 * 64, 1024\n",
    "\n",
    "# Create Convolution/Pooling Helper Functions \n",
    "def conv2d(x, W):\n",
    "  return tf.nn.conv2d(x, W, strides=[1, 1, 1, 1], padding='SAME')\n",
    "\n",
    "def max_pool_2x2(x):\n",
    "  return tf.nn.max_pool(x, ksize=[1, 2, 2, 1], strides=[1, 2, 2, 1], padding='SAME')\n",
    "\n",
    "initializer = tf.contrib.layers.xavier_initializer()\n",
    "# Setup Placeholders => None argument in shape lets us pass in arbitrary sized batches\n",
    "X = tf.placeholder(tf.float32, shape=[None, INPUT_SIZE], name=\"X\")  \n",
    "Y = tf.placeholder(tf.float32, shape=[None, OUTPUT_SIZE], name=\"Y\")\n",
    "keep_prob = tf.placeholder(tf.float32, name=\"keep_prob\")\n",
    "\n",
    "# Reshape input so it resembles an image (height x width x depth)\n",
    "X_image = tf.reshape(X, [-1, OUT_H, OUT_W, 1])\n",
    "\n",
    "# Conv Filter 1 Variables\n",
    "Wconv_1 = tf.get_variable(\"WConv_1\", shape=[FILTER_SIZE, FILTER_SIZE,\n",
    "                                            1, FILTER_ONE_DEPTH], initializer=initializer)\n",
    "bconv_1 = tf.get_variable(\"bConv_1\", shape=[FILTER_ONE_DEPTH], initializer=initializer)\n",
    "# First Convolutional + Pooling Transformation\n",
    "h_conv1 = tf.nn.relu(conv2d(X_image, Wconv_1) + bconv_1)\n",
    "h_pool1 = max_pool_2x2(h_conv1)\n",
    "\n",
    "# Conv Filter 2 Variables\n",
    "Wconv_2 = tf.get_variable(\"WConv_2\", shape=[FILTER_SIZE, FILTER_SIZE,\n",
    "                                            FILTER_ONE_DEPTH, FILTER_TWO_DEPTH],\n",
    "                          initializer=initializer)\n",
    "bconv_2 = tf.get_variable(\"bConv_2\", shape=[FILTER_TWO_DEPTH], initializer=initializer)\n",
    "# Second Convolutional + Pooling Transformation\n",
    "h_conv2 = tf.nn.relu(conv2d(h_pool1, Wconv_2) + bconv_2)\n",
    "h_pool2 = max_pool_2x2(h_conv2)\n",
    "\n",
    "# Flatten Convolved Image, into vector for remaining feed-forward transformations\n",
    "h_pool2_flat = tf.reshape(h_pool2, [-1, FLAT_SIZE])\n",
    "# Hidden Layer Variables\n",
    "W_1 = tf.get_variable(\"W_1\", shape=[FLAT_SIZE, HIDDEN_SIZE], initializer=initializer)\n",
    "b_1 = tf.get_variable(\"b_1\", shape=[HIDDEN_SIZE], initializer=initializer)\n",
    "\n",
    "# Hidden Layer Transformation\n",
    "hidden = tf.nn.relu(tf.matmul(h_pool2_flat, W_1) + b_1)\n",
    "# DROPOUT - For regularization\n",
    "hidden_drop = tf.nn.dropout(hidden, keep_prob)\n",
    "\n",
    "# Output Layer Variables\n",
    "W_2 = tf.get_variable(\"W_2\", shape=[HIDDEN_SIZE, OUTPUT_SIZE], initializer=initializer)\n",
    "b_2 = tf.get_variable(\"b_2\", shape=[OUTPUT_SIZE], initializer=initializer)\n",
    "\n",
    "# Output Layer Transformation\n",
    "output = tf.add(tf.matmul(hidden_drop, W_2), b_2, name='output')\n",
    "\n",
    "# Compute Loss\n",
    "loss = tf.losses.softmax_cross_entropy(Y, output)\n",
    "# Compute Accuracy\n",
    "correct_prediction = tf.equal(tf.argmax(Y, 1), tf.argmax(output, 1))\n",
    "accuracy = tf.reduce_mean(tf.cast(correct_prediction, tf.float32))\n",
    "# Setup Optimizer\n",
    "train_op = tf.train.AdamOptimizer().minimize(loss)"
   ]
  },
  {
   "cell_type": "markdown",
   "metadata": {},
   "source": [
    "Next up is training. We'll define a function to pipe in our data and then iterate until we get good accuracy."
   ]
  },
  {
   "cell_type": "code",
   "execution_count": 9,
   "metadata": {},
   "outputs": [
    {
     "name": "stdout",
     "output_type": "stream",
     "text": [
      "1292 DATA POINTS\n",
      "Step 0 Current Training Accuracy: 0.100\n",
      "Step 100 Current Training Accuracy: 0.967\n",
      "Step 200 Current Training Accuracy: 1.000\n",
      "Step 300 Current Training Accuracy: 1.000\n",
      "Step 400 Current Training Accuracy: 1.000\n",
      "Step 500 Current Training Accuracy: 1.000\n",
      "Step 600 Current Training Accuracy: 1.000\n",
      "Step 700 Current Training Accuracy: 1.000\n",
      "Step 800 Current Training Accuracy: 1.000\n",
      "Step 900 Current Training Accuracy: 1.000\n",
      "Test Accuracy: 0.968\n"
     ]
    }
   ],
   "source": [
    "import random\n",
    "import json\n",
    "def loadData(batch_size):\n",
    "    ''' Creates batch generators for train and test from\n",
    "        annotated data described in 'chars.json'.\n",
    "    '''\n",
    "    with open('chars.json') as f:\n",
    "        data = list(json.load(f).items())\n",
    "    random.shuffle(data) # Shuffle for good luck\n",
    "    print(\"{} DATA POINTS\".format(len(data)))\n",
    "    imgs = []\n",
    "    for fn, c in data:\n",
    "        # Skip chars I entered nothing for\n",
    "        if not c: continue\n",
    "        im = Image.open(f'static/chars/{fn}')\n",
    "        # Normalize pix vals to [-1, 1]\n",
    "        norm_pix = (np.array(im.getdata(), dtype=np.float32) / 255) * 2 - 1 \n",
    "        # Create one-hot label vector\n",
    "        vector_c = np.zeros(len(look))\n",
    "        vector_c[look.index(c)] = 1\n",
    "        imgs.append((norm_pix, vector_c))\n",
    "    \n",
    "    # Have a 80/20 train/test split\n",
    "    split_ind = 4*len(imgs)//5\n",
    "    train = imgs[:split_ind]\n",
    "    test = imgs[split_ind+1:]\n",
    "    test_x, test_y = zip(*test)\n",
    "    def gen(data):\n",
    "        while True:\n",
    "            batch = []\n",
    "            for i, p in enumerate(data):\n",
    "                batch.append(p)\n",
    "                i += 1\n",
    "                if i % batch_size == 0:\n",
    "                    yield zip(*batch)\n",
    "                    batch = []\n",
    "    return gen(train), test_x, test_y\n",
    "\n",
    "BATCH_SIZE = 30\n",
    "NUM_ITERS = 1000\n",
    "train, test_x, test_y = loadData(BATCH_SIZE)\n",
    "\n",
    "### Launch the Session, to Communicate with Computation Graph ###\n",
    "sess = tf.InteractiveSession()\n",
    "# Initialize all variables in the graph\n",
    "sess.run(tf.global_variables_initializer())\n",
    "\n",
    "# Training Loop\n",
    "for i in range(NUM_ITERS):\n",
    "    batch_x, batch_y = next(train)\n",
    "    curr_acc, _ = sess.run([accuracy, train_op], feed_dict={X: batch_x,\n",
    "                                                            Y: batch_y,\n",
    "                                                            keep_prob: 0.5})\n",
    "    if i % 100 == 0:\n",
    "        print('Step {} Current Training Accuracy: {:.3f}'.format(i, curr_acc))\n",
    "\n",
    "# Evaluate on Test Data\n",
    "# keep-prop = 1.0 to disable dropout\n",
    "print('Test Accuracy: {:.3f}'.format(sess.run(accuracy, feed_dict={X: test_x, \n",
    "                                                            Y: test_y,\n",
    "                                                            keep_prob: 1.0}))) "
   ]
  },
  {
   "cell_type": "markdown",
   "metadata": {},
   "source": [
    "One thing I brushed over was actual training examples. I thought this was going to be the most tedious part, but it wasn't bad at all. I made a quick webserver in Flask which would serve me characters to classify. The webserver serves the images from `static/chars` which is generated by writing out the isolated characters from `mats` into `<char index>_<captcha name>.png`.\n",
    "\n",
    "In less than half an hour, I had 1k examples of characters which was enough to get good accuracy. I think one reason for the high performance on relatively little data is the fact that the CAPTCHA text comes from a font with very regular style, unlike handwritten MNIST digits.\n",
    "\n",
    "<img style='display:block;margin:auto;' src='imgs/captcha_webserver.png'>"
   ]
  },
  {
   "cell_type": "code",
   "execution_count": null,
   "metadata": {
    "collapsed": true
   },
   "outputs": [],
   "source": [
    "from flask import Flask, render_template, request, redirect\n",
    "import os, json\n",
    "app = Flask(__name__)\n",
    "\n",
    "data = {}\n",
    "with open('chars.json') as f:\n",
    "    data = json.load(f)\n",
    "\n",
    "# Get all saved character files\n",
    "files = set(\n",
    "    filter(\n",
    "        lambda x: x.endswith('.png'),\n",
    "        os.listdir('static/chars')))\n",
    "\n",
    "def getFile():\n",
    "    ''' Returns the filename of an unannotated char. '''\n",
    "    s = files - set(data.keys())\n",
    "    return s.pop()\n",
    "\n",
    "@app.route('/save')\n",
    "def save():\n",
    "    ''' Saves out char.json & redirects back to index. '''\n",
    "    with open('chars.json', 'w') as f:\n",
    "        json.dump(data, f)\n",
    "    return redirect('/')\n",
    "\n",
    "@app.route('/', methods=['GET', 'POST'])\n",
    "def main():\n",
    "    ''' Index handler. '''\n",
    "    # If POST'd save annotation\n",
    "    if request.method == 'POST':\n",
    "        fn, c = request.form['file'], request.form['txt']\n",
    "        data[fn] = c\n",
    "    # Serve up new file\n",
    "    newFile = getFile()\n",
    "    return render_template('main.html', name=newFile, img=f'/static/chars/{newFile}')"
   ]
  },
  {
   "cell_type": "markdown",
   "metadata": {},
   "source": [
    "Now that our model is working, lets start answering CAPTCHAs! We'll just load in our pretrained model, split up our image, classify each character, and return the result."
   ]
  },
  {
   "cell_type": "code",
   "execution_count": 17,
   "metadata": {},
   "outputs": [
    {
     "data": {
      "image/png": "[encoded data removed]",
      "text/plain": [
       "<matplotlib.figure.Figure at 0x11405fb70>"
      ]
     },
     "metadata": {},
     "output_type": "display_data"
    },
    {
     "name": "stdout",
     "output_type": "stream",
     "text": [
      "CAPTCHA: azxk\n"
     ]
    }
   ],
   "source": [
    "def predict(inp):\n",
    "    probs = sess.run(output, feed_dict={X: inp, keep_prob: 1.0})\n",
    "    ret = ''\n",
    "    for prob in probs:\n",
    "        ret += look[np.argmax(prob)]\n",
    "    return ret\n",
    "\n",
    "norm_mats = list(map(lambda x: (x.flatten() / 255) * 2 - 1, mats))\n",
    "pred = predict(norm_mats)\n",
    "showImg(Image.open('imgs/captcha.png'),'')\n",
    "print(f\"CAPTCHA: {pred}\")"
   ]
  },
  {
   "cell_type": "markdown",
   "metadata": {},
   "source": [
    "## Conclusion\n",
    "\n",
    "I was able to generate the 15k CAPTCHAs in about 10min and submitted them without any issues. Later, I found out the way the CAPTCHAs were generated from someone. From this I calculated that of those that I didn't skip, I got 86% accuracy, and including skips had 56% accuracy. Not bad!\n",
    "\n",
    "I really enjoyed this problem as it was relatively realistic; you definitely see CAPTCHAs similar to these on old janky websites. It speaks to the flexibility of both Python and TensorFlow that I was able to go start to finish on the problem in under a day. It still amazes me how adaptable neural nets are and how easy it is to tweak a model arcitecture to work for a variety of tasks."
   ]
  }
 ],
 "metadata": {
  "kernelspec": {
   "display_name": "Python 3",
   "language": "python",
   "name": "python3"
  },
  "language_info": {
   "codemirror_mode": {
    "name": "ipython",
    "version": 3
   },
   "file_extension": ".py",
   "mimetype": "text/x-python",
   "name": "python",
   "nbconvert_exporter": "python",
   "pygments_lexer": "ipython3",
   "version": "3.6.1"
  }
 },
 "nbformat": 4,
 "nbformat_minor": 2
}
