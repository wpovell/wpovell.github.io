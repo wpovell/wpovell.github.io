{
 "cells": [
  {
   "cell_type": "markdown",
   "metadata": {},
   "source": [
    "# pix2pix"
   ]
  },
  {
   "cell_type": "code",
   "execution_count": null,
   "metadata": {
    "collapsed": true
   },
   "outputs": [],
   "source": [
    "import tensorflow as tf\n",
    "import numpy as np\n",
    "import glob\n",
    "\n",
    "BATCH_SIZE = 1\n",
    "\n",
    "# TODO: Disect\n",
    "def conv(batch_input, out_channels, stride):\n",
    "    in_channels = batch_input.get_shape()[3]\n",
    "    filter = tf.get_variable(\"filter\", [4, 4, in_channels, out_channels], dtype=tf.float32, initializer=tf.random_normal_initializer(0, 0.02))\n",
    "    # [batch, in_height, in_width, in_channels], [filter_width, filter_height, in_channels, out_channels]\n",
    "    #     => [batch, out_height, out_width, out_channels]\n",
    "    padded_input = tf.pad(batch_input, [[0, 0], [1, 1], [1, 1], [0, 0]], mode=\"CONSTANT\")\n",
    "    conv = tf.nn.conv2d(padded_input, filter, [1, stride, stride, 1], padding=\"VALID\")\n",
    "    return conv\n",
    "\n",
    "## Load data ##\n",
    "input_paths = glob.globa('data/pix2pix/facades/train/*.jpg')\n",
    "decode = tf.image_decode_jpeg\n",
    "path_queue = tf.train.string_input_producer(input_paths, shuffle=True)\n",
    "reader = tf.WholeFileReader()\n",
    "paths, contents = read.read(path_queue)\n",
    "rawInput = decode(contents)\n",
    "rawInput = tf.image.convert_image_dtype(rawInput, dtype=tf.float32)\n",
    "\n",
    "# [height, width, channel]\n",
    "raw_input.set_shape([None, None, 3])\n",
    "width = tf.shape(rawInput)[1]\n",
    "\n",
    "preprocess = lambda x: x * 2 - 1 # [0, 1] => [-1, 1]\n",
    "a_images = preprocess(rawInput[:,:width//2,:])\n",
    "b_images = preprocess(rawInput[:,width//2:,:])\n",
    "\n",
    "# Can be switched for other dir\n",
    "inputs, targets = [a_images, b_images]\n",
    "\n",
    "paths, inputs, targets = tf.train.batch([paths, inputs, targets], batch_size=BATCH_SIZE)\n",
    "steps_per_epoch = int(math.ceil(len(input_paths) / a.batch_size))\n",
    "\n",
    "out_channels = int(targets.get_shape()[-1])\n",
    "\n",
    "## Create Generator ##\n",
    "output = conv(generator_inputs, 64, stide=2)\n",
    "layers.append(output)"
   ]
  }
 ],
 "metadata": {
  "kernelspec": {
   "display_name": "Python 3",
   "language": "python",
   "name": "python3"
  },
  "language_info": {
   "codemirror_mode": {
    "name": "ipython",
    "version": 3
   },
   "file_extension": ".py",
   "mimetype": "text/x-python",
   "name": "python",
   "nbconvert_exporter": "python",
   "pygments_lexer": "ipython3",
   "version": "3.6.0"
  }
 },
 "nbformat": 4,
 "nbformat_minor": 2
}
