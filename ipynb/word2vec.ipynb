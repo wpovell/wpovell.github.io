{
 "cells": [
  {
   "cell_type": "markdown",
   "metadata": {},
   "source": [
    "Code adapted from [Stanford CS20SI](http://web.stanford.edu/class/cs20si/syllabus.html)\n",
    "\n",
    "The code for word2vec is pretty short, "
   ]
  },
  {
   "cell_type": "code",
   "execution_count": null,
   "metadata": {
    "collapsed": true
   },
   "outputs": [],
   "source": [
    "import numpy as np\n",
    "import tensorflow as tf\n",
    "from process_data import process_data\n",
    "\n",
    "VOCAB_SIZE = 50000 # Size constraint on our vocab\n",
    "EMBED_SIZE = 128 # dimension of the word embedding vectors\n",
    "SKIP_WINDOW = 1 # the context window\n",
    "\n",
    "# Step 1: define the placeholders for input and output\n",
    "center_words = tf.placeholder(tf.int32, shape=[BATCH_SIZE], name='center_words')\n",
    "target_words = tf.placeholder(tf.int32, shape=[BATCH_SIZE, 1], name='target_words')\n",
    "\n",
    "# Step 2: define weights. In word2vec, it's actually the weights that we care about\n",
    "embed_matrix = tf.Variable(tf.random_uniform([VOCAB_SIZE, EMBED_SIZE], -1.0, 1.0), \n",
    "                        name='embed_matrix')\n",
    "\n",
    "# Step 3: define the inference\n",
    "embed = tf.nn.embedding_lookup(embed_matrix, center_words, name='embed')\n",
    "\n",
    "# Step 4: construct variables for NCE loss\n",
    "nce_weight = tf.Variable(tf.truncated_normal([VOCAB_SIZE, EMBED_SIZE],\n",
    "                                            stddev=1.0 / (EMBED_SIZE ** 0.5)), \n",
    "                                            name='nce_weight')\n",
    "nce_bias = tf.Variable(tf.zeros([VOCAB_SIZE]), name='nce_bias')\n",
    "\n",
    "# define loss function to be NCE loss function\n",
    "NUM_SAMPLED = 64 # Number of negative examples to sample.\n",
    "loss = tf.reduce_mean(tf.nn.nce_loss(weights=nce_weight, \n",
    "                                    biases=nce_bias, \n",
    "                                    labels=target_words, \n",
    "                                    inputs=embed, \n",
    "                                    num_sampled=NUM_SAMPLED, \n",
    "                                    num_classes=VOCAB_SIZE), name='loss')"
   ]
  },
  {
   "cell_type": "markdown",
   "metadata": {},
   "source": [
    "## Training and Results"
   ]
  },
  {
   "cell_type": "code",
   "execution_count": null,
   "metadata": {
    "collapsed": true
   },
   "outputs": [],
   "source": [
    "# Setup Optimizer\n",
    "LEARNING_RATE = 1.0\n",
    "optimizer = tf.train.AdamOptimizer(LEARNING_RATE).minimize(loss)\n",
    "\n",
    "SKIP_STEP = 2000 # how many steps to skip before reporting the loss\n",
    "BATCH_SIZE, NUM_TRAIN_STEPS = 128, 10000\n",
    "batch_gen = process_data(VOCAB_SIZE, BATCH_SIZE, SKIP_WINDOW)\n",
    "with tf.Session() as sess:\n",
    "    sess.run(tf.global_variables_initializer())\n",
    "\n",
    "    total_loss = 0.0 # we use this to calculate late average loss in the last SKIP_STEP steps\n",
    "    for index in range(NUM_TRAIN_STEPS):\n",
    "        centers, targets = next(batch_gen)\n",
    "        loss_batch, _ = sess.run([loss, optimizer], \n",
    "                                feed_dict={center_words: centers, target_words: targets})\n",
    "        total_loss += loss_batch\n",
    "        if (index + 1) % SKIP_STEP == 0:\n",
    "            print('Average loss at step {}: {:5.1f}'.format(index, total_loss / SKIP_STEP))\n",
    "            total_loss = 0.0"
   ]
  }
 ],
 "metadata": {
  "kernelspec": {
   "display_name": "Python 3",
   "language": "python",
   "name": "python3"
  },
  "language_info": {
   "codemirror_mode": {
    "name": "ipython",
    "version": 3
   },
   "file_extension": ".py",
   "mimetype": "text/x-python",
   "name": "python",
   "nbconvert_exporter": "python",
   "pygments_lexer": "ipython3",
   "version": "3.6.1"
  }
 },
 "nbformat": 4,
 "nbformat_minor": 2
}
